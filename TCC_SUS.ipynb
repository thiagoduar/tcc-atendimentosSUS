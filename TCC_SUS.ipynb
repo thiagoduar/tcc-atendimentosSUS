{
  "nbformat": 4,
  "nbformat_minor": 0,
  "metadata": {
    "colab": {
      "name": "TCC- SUS",
      "provenance": [],
      "collapsed_sections": [],
      "toc_visible": true
    },
    "kernelspec": {
      "name": "python3",
      "display_name": "Python 3"
    },
    "language_info": {
      "name": "python"
    }
  },
  "cells": [
    {
      "cell_type": "markdown",
      "metadata": {
        "id": "JkEnhLjH8Yzk"
      },
      "source": [
        "# TCC - APLICAÇÃO DE MACHINE LEARNING EM ANÁLISE DE COMPARECIMENTO EM CONSULTAS MÉDICAS DO SUS\n",
        "\n",
        "\n",
        "Este notebook foi desenvolvido para o ambiente GOOGLE COLAB \n",
        "\n",
        "THIAGO AUGUSTO COSTA DUARTE"
      ]
    },
    {
      "cell_type": "markdown",
      "metadata": {
        "id": "ieiavaxz_N0B"
      },
      "source": [
        "# Inicialização \n",
        "\n",
        "A célula a seguir inicializa a plataforma, carregando as bibliotecas que serão relevantes para o trabalho em seguida.\n",
        "\n",
        "## Bibliotecas\n",
        "```numpy``` -- usada para processamento numérico.\n",
        "\n",
        "```pandas``` -- usada para manipulação de bases de dados.\n",
        "\n",
        "```pyplot``` -- usada para visualização de dados.\n",
        "\n",
        "```seaborn``` -- usada para visualização de dados."
      ]
    },
    {
      "cell_type": "code",
      "metadata": {
        "id": "ajp74cqT_af_"
      },
      "source": [
        "import pandas as pd\n",
        "import pydotplus \n",
        "import matplotlib.pyplot as plt\n",
        "import numpy as np\n",
        "import seaborn as sns\n",
        "\n",
        "\n",
        "from sklearn import metrics\n",
        "from sklearn.model_selection import train_test_split\n",
        "from sklearn.tree import DecisionTreeClassifier\n",
        "from sklearn.naive_bayes import GaussianNB\n",
        "from sklearn.metrics import accuracy_score, classification_report, confusion_matrix\n",
        "from sklearn.decomposition import PCA\n",
        "from sklearn.preprocessing import LabelEncoder\n",
        "from sklearn.ensemble import RandomForestClassifier\n",
        "from sklearn.ensemble import IsolationForest\n",
        "from sklearn.neural_network import MLPClassifier\n",
        "from sklearn import preprocessing\n",
        "from sklearn.model_selection import StratifiedKFold\n",
        "\n",
        "np.set_printoptions(threshold=None, precision=2)\n",
        "pd.set_option('display.max_columns', 500)\n",
        "pd.set_option('display.max_rows', 500)\n",
        "pd.set_option('precision', 2)"
      ],
      "execution_count": 1,
      "outputs": []
    },
    {
      "cell_type": "markdown",
      "metadata": {
        "id": "yDo5Od07BdyN"
      },
      "source": [
        "\n",
        "*   Import do arquivo CRV \n",
        " \n",
        "\n",
        "*  Essa base de dados pode ser obtida no Kaggle, no endereço: https://www.kaggle.com/joniarroba/noshowappointments\n"
      ]
    },
    {
      "cell_type": "code",
      "metadata": {
        "colab": {
          "resources": {
            "http://localhost:8080/nbextensions/google.colab/files.js": {
              "data": "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",
              "ok": true,
              "headers": [
                [
                  "content-type",
                  "application/javascript"
                ]
              ],
              "status": 200,
              "status_text": ""
            }
          },
          "base_uri": "https://localhost:8080/",
          "height": 72
        },
        "id": "o8nUbhzM8yaA",
        "outputId": "0838da8a-d2b4-4416-d199-62d4adf38be5"
      },
      "source": [
        "from google.colab import files\n",
        "\n",
        "uploaded = files.upload()"
      ],
      "execution_count": 2,
      "outputs": [
        {
          "output_type": "display_data",
          "data": {
            "text/html": [
              "\n",
              "     <input type=\"file\" id=\"files-2fffb3dc-9910-4013-80ee-7f135f22a227\" name=\"files[]\" multiple disabled\n",
              "        style=\"border:none\" />\n",
              "     <output id=\"result-2fffb3dc-9910-4013-80ee-7f135f22a227\">\n",
              "      Upload widget is only available when the cell has been executed in the\n",
              "      current browser session. Please rerun this cell to enable.\n",
              "      </output>\n",
              "      <script src=\"/nbextensions/google.colab/files.js\"></script> "
            ],
            "text/plain": [
              "<IPython.core.display.HTML object>"
            ]
          },
          "metadata": {
            "tags": []
          }
        },
        {
          "output_type": "stream",
          "text": [
            "Saving KaggleV2-May-2016.csv to KaggleV2-May-2016.csv\n"
          ],
          "name": "stdout"
        }
      ]
    },
    {
      "cell_type": "code",
      "metadata": {
        "colab": {
          "base_uri": "https://localhost:8080/"
        },
        "id": "E6oX2HX0EtXg",
        "outputId": "e9aa4fa4-ec7f-49cd-90ea-6ab959d3cb50"
      },
      "source": [
        "sus = pd.read_csv(next(iter(uploaded.keys())))\n",
        "\n",
        "print(\"\\nDimensões de SUS:\\n{0}\\n\".format(sus.shape))\n",
        "print(\"\\nCampos de SUS:\\n{0}\\n\".format(list(sus.keys())))\n",
        "print(\"\\nTipos dos dados:\\n{0}\\n\".format(sus.dtypes))"
      ],
      "execution_count": 4,
      "outputs": [
        {
          "output_type": "stream",
          "text": [
            "\n",
            "Dimensões de SUS:\n",
            "(110527, 14)\n",
            "\n",
            "\n",
            "Campos de SUS:\n",
            "['PatientId', 'AppointmentID', 'Gender', 'ScheduledDay', 'AppointmentDay', 'Age', 'Neighbourhood', 'Scholarship', 'Hipertension', 'Diabetes', 'Alcoholism', 'Handcap', 'SMS_received', 'No-show']\n",
            "\n",
            "\n",
            "Tipos dos dados:\n",
            "PatientId         float64\n",
            "AppointmentID       int64\n",
            "Gender             object\n",
            "ScheduledDay       object\n",
            "AppointmentDay     object\n",
            "Age                 int64\n",
            "Neighbourhood      object\n",
            "Scholarship         int64\n",
            "Hipertension        int64\n",
            "Diabetes            int64\n",
            "Alcoholism          int64\n",
            "Handcap             int64\n",
            "SMS_received        int64\n",
            "No-show            object\n",
            "dtype: object\n",
            "\n"
          ],
          "name": "stdout"
        }
      ]
    },
    {
      "cell_type": "markdown",
      "metadata": {
        "id": "xJT98MPBB9zT"
      },
      "source": [
        "# 3 - Tratamento de Dados"
      ]
    },
    {
      "cell_type": "markdown",
      "metadata": {
        "id": "Y9zvCfh1DIbC"
      },
      "source": [
        "## 3.1 - Verificação de dados ausentes e duplicados"
      ]
    },
    {
      "cell_type": "markdown",
      "metadata": {
        "id": "5AamXgYMKue5"
      },
      "source": [
        "Valida se existe algum dado ausente"
      ]
    },
    {
      "cell_type": "code",
      "metadata": {
        "colab": {
          "base_uri": "https://localhost:8080/"
        },
        "id": "MXBloGFn8-nd",
        "outputId": "334bb0ec-3819-433b-ee4e-1d198a5e1144"
      },
      "source": [
        "import pandas as pd\n",
        "sus = pd.read_csv(next(iter(uploaded.keys())))\n",
        "sus.isnull().values.any()"
      ],
      "execution_count": 67,
      "outputs": [
        {
          "output_type": "execute_result",
          "data": {
            "text/plain": [
              "False"
            ]
          },
          "metadata": {
            "tags": []
          },
          "execution_count": 67
        }
      ]
    },
    {
      "cell_type": "markdown",
      "metadata": {
        "id": "AAmVEYmDKqMC"
      },
      "source": [
        "Valida se existe registros duplicados"
      ]
    },
    {
      "cell_type": "code",
      "metadata": {
        "colab": {
          "base_uri": "https://localhost:8080/"
        },
        "id": "gQuvjNxGFs17",
        "outputId": "512faca1-c985-4854-a731-c93dd95b0f4f"
      },
      "source": [
        "import pandas as pd\n",
        "sus = pd.read_csv(next(iter(uploaded.keys())))\n",
        "sus.duplicated().values.any()"
      ],
      "execution_count": 68,
      "outputs": [
        {
          "output_type": "execute_result",
          "data": {
            "text/plain": [
              "False"
            ]
          },
          "metadata": {
            "tags": []
          },
          "execution_count": 68
        }
      ]
    },
    {
      "cell_type": "markdown",
      "metadata": {
        "id": "jbd7kPdYD-cZ"
      },
      "source": [
        "## 3.2 - Renomear as colunas"
      ]
    },
    {
      "cell_type": "markdown",
      "metadata": {
        "id": "9XdKDFRALY_O"
      },
      "source": [
        "De for a facilitar a manipulação dos dados, foi proposta uma nova renomeação das colunas da base."
      ]
    },
    {
      "cell_type": "code",
      "metadata": {
        "colab": {
          "base_uri": "https://localhost:8080/"
        },
        "id": "L13-LVy1LgzM",
        "outputId": "17a30982-60c4-4432-f7f2-f5bb69b3e26e"
      },
      "source": [
        "sus.rename(columns = {'PatientId': 'PacienteID',\n",
        "                      'AppointmentID': 'AgendamentoID',\n",
        "                      'Gender': 'Genero',\n",
        "                      'ScheduledDay': 'DataMarcacaoConsulta',\n",
        "                      'AppointmentDay': 'DataConsulta',\n",
        "                      'Age': 'Idade',\n",
        "                      'Neighbourhood': 'Bairro',\n",
        "                      'Scholarship': 'Escolaridade',\n",
        "                      'Hipertension': 'Hipertensao',\n",
        "                      'Alcoholism': 'Alcoolismo',\n",
        "                      'Handcap': 'Deficiencia',\n",
        "                      'SMS_received': 'SMS_Alerta',\n",
        "                      }, inplace = True)\n",
        "\n",
        "print(\"\\nCampos de SUS:\\n{0}\\n\".format(list(sus.keys())))"
      ],
      "execution_count": 5,
      "outputs": [
        {
          "output_type": "stream",
          "text": [
            "\n",
            "Campos de SUS:\n",
            "['PacienteID', 'AgendamentoID', 'Genero', 'DataMarcacaoConsulta', 'DataConsulta', 'Idade', 'Bairro', 'Escolaridade', 'Hipertensao', 'Diabetes', 'Alcoolismo', 'Deficiencia', 'SMS_Alerta', 'No-show']\n",
            "\n"
          ],
          "name": "stdout"
        }
      ]
    },
    {
      "cell_type": "markdown",
      "metadata": {
        "id": "THHqAvpJEH6b"
      },
      "source": [
        "## 3.3 - Conversão de variaveis "
      ]
    },
    {
      "cell_type": "markdown",
      "metadata": {
        "id": "kiLJO7cWeCz1"
      },
      "source": [
        "Conversão do campo 'PacienteID' para o tipo int"
      ]
    },
    {
      "cell_type": "code",
      "metadata": {
        "id": "fHoEGTiveKwv"
      },
      "source": [
        "sus['PacienteID'] = sus['PacienteID'].astype(np.int64)"
      ],
      "execution_count": 6,
      "outputs": []
    },
    {
      "cell_type": "markdown",
      "metadata": {
        "id": "gIQ7jjfReSbU"
      },
      "source": [
        "Conversão dos campos 'DataMarcacaoConsulta'e 'DataConsulta', para o tipo DATE"
      ]
    },
    {
      "cell_type": "code",
      "metadata": {
        "id": "FmJv66sYekfQ"
      },
      "source": [
        "sus['PacienteID'] = sus['PacienteID'].astype(np.int64)\n",
        "sus.DataMarcacaoConsulta = sus.DataMarcacaoConsulta.apply(np.datetime64)\n",
        "sus.DataConsulta = sus.DataConsulta.apply(np.datetime64)"
      ],
      "execution_count": 7,
      "outputs": []
    },
    {
      "cell_type": "code",
      "metadata": {
        "colab": {
          "base_uri": "https://localhost:8080/"
        },
        "id": "SQb5K_yifmfj",
        "outputId": "f64b072d-510c-4686-f8f3-a3d270cdc9f9"
      },
      "source": [
        "print(\"\\nTipos dos dados:\\n{0}\\n\".format(sus.dtypes))"
      ],
      "execution_count": 8,
      "outputs": [
        {
          "output_type": "stream",
          "text": [
            "\n",
            "Tipos dos dados:\n",
            "PacienteID                       int64\n",
            "AgendamentoID                    int64\n",
            "Genero                          object\n",
            "DataMarcacaoConsulta    datetime64[ns]\n",
            "DataConsulta            datetime64[ns]\n",
            "Idade                            int64\n",
            "Bairro                          object\n",
            "Escolaridade                     int64\n",
            "Hipertensao                      int64\n",
            "Diabetes                         int64\n",
            "Alcoolismo                       int64\n",
            "Deficiencia                      int64\n",
            "SMS_Alerta                       int64\n",
            "No-show                         object\n",
            "dtype: object\n",
            "\n"
          ],
          "name": "stdout"
        }
      ]
    },
    {
      "cell_type": "markdown",
      "metadata": {
        "id": "rjJGLXZ6F4ZW"
      },
      "source": [
        "## 3.4 - Novas Colunas\n",
        "\n",
        "1.   Criação da coluna de ```TempoEspera```, é a data do agendamento  - a data da consulta\n",
        "2.   Padronização da coluna ```Genero``` Afim de padronizar os regitros de 2 valores em boolean.\n",
        "Para isso , a coluna ```Genero``` vai ser renomeada para ```Genero_Masculino```\n",
        "3.  Padronização da coluna ```no-show```. Afim de deixar toda a base boolean.\n",
        "Para isso , a coluna ```no-show``` vai ser renomeada para ```Nao_comparecimento``` \n",
        "4. Converte bairro para numeros e criando coluna de ```BirroInt```\n"
      ]
    },
    {
      "cell_type": "code",
      "metadata": {
        "id": "H2EVX_ENdzz1"
      },
      "source": [
        "def NumeroDias(number):\n",
        "  number = abs(number)\n",
        "  return int(np.ceil(number))\n",
        "  \n",
        "DiasParaConsulta = sus.DataConsulta - sus.DataMarcacaoConsulta\n",
        "DiasParaConsulta = DiasParaConsulta.apply(lambda x: x.total_seconds() / (3600 * 24))\n",
        "sus['TempoEspera'] = DiasParaConsulta.apply(NumeroDias)"
      ],
      "execution_count": 9,
      "outputs": []
    },
    {
      "cell_type": "code",
      "metadata": {
        "id": "MYHCNR-p0RS5"
      },
      "source": [
        "def converte_Genero_Masculino (Genero):\n",
        "  if Genero == 'M':\n",
        "    return 1\n",
        "  else:\n",
        "    return 0\n",
        "    \n",
        "sus['Genero_Masculino'] = sus['Genero'].apply(converte_Genero_Masculino)"
      ],
      "execution_count": 10,
      "outputs": []
    },
    {
      "cell_type": "code",
      "metadata": {
        "id": "-8srOy9w0ce6"
      },
      "source": [
        "def converte_no_show (no_show):\n",
        "  if no_show == 'Yes':\n",
        "    return 1\n",
        "  else:\n",
        "    return 0\n",
        "  \n",
        "sus['Nao_comparecimento'] = sus['No-show'].apply(converte_no_show)"
      ],
      "execution_count": 11,
      "outputs": []
    },
    {
      "cell_type": "code",
      "metadata": {
        "id": "IH_swDGwu8PA"
      },
      "source": [
        "from sklearn.preprocessing import LabelEncoder\n",
        "\n",
        "le = LabelEncoder()\n",
        "sus['BirroInt'] = le.fit_transform(sus['Bairro'])"
      ],
      "execution_count": 12,
      "outputs": []
    },
    {
      "cell_type": "code",
      "metadata": {
        "colab": {
          "base_uri": "https://localhost:8080/",
          "height": 394
        },
        "id": "GCCQMnSm2SYl",
        "outputId": "c394d5c7-8405-4584-a13b-023334cae70b"
      },
      "source": [
        "sus.head()  "
      ],
      "execution_count": 77,
      "outputs": [
        {
          "output_type": "execute_result",
          "data": {
            "text/html": [
              "<div>\n",
              "<style scoped>\n",
              "    .dataframe tbody tr th:only-of-type {\n",
              "        vertical-align: middle;\n",
              "    }\n",
              "\n",
              "    .dataframe tbody tr th {\n",
              "        vertical-align: top;\n",
              "    }\n",
              "\n",
              "    .dataframe thead th {\n",
              "        text-align: right;\n",
              "    }\n",
              "</style>\n",
              "<table border=\"1\" class=\"dataframe\">\n",
              "  <thead>\n",
              "    <tr style=\"text-align: right;\">\n",
              "      <th></th>\n",
              "      <th>PacienteID</th>\n",
              "      <th>AgendamentoID</th>\n",
              "      <th>Genero</th>\n",
              "      <th>DataMarcacaoConsulta</th>\n",
              "      <th>DataConsulta</th>\n",
              "      <th>Idade</th>\n",
              "      <th>Bairro</th>\n",
              "      <th>Escolaridade</th>\n",
              "      <th>Hipertensao</th>\n",
              "      <th>Diabetes</th>\n",
              "      <th>Alcoolismo</th>\n",
              "      <th>Deficiencia</th>\n",
              "      <th>SMS_Alerta</th>\n",
              "      <th>No-show</th>\n",
              "      <th>TempoEspera</th>\n",
              "      <th>Genero_Masculino</th>\n",
              "      <th>Nao_comparecimento</th>\n",
              "      <th>BirroInt</th>\n",
              "    </tr>\n",
              "  </thead>\n",
              "  <tbody>\n",
              "    <tr>\n",
              "      <th>0</th>\n",
              "      <td>29872499824296</td>\n",
              "      <td>5642903</td>\n",
              "      <td>F</td>\n",
              "      <td>2016-04-29 18:38:08</td>\n",
              "      <td>2016-04-29</td>\n",
              "      <td>62</td>\n",
              "      <td>JARDIM DA PENHA</td>\n",
              "      <td>0</td>\n",
              "      <td>1</td>\n",
              "      <td>0</td>\n",
              "      <td>0</td>\n",
              "      <td>0</td>\n",
              "      <td>0</td>\n",
              "      <td>No</td>\n",
              "      <td>1</td>\n",
              "      <td>0</td>\n",
              "      <td>0</td>\n",
              "      <td>39</td>\n",
              "    </tr>\n",
              "    <tr>\n",
              "      <th>1</th>\n",
              "      <td>558997776694438</td>\n",
              "      <td>5642503</td>\n",
              "      <td>M</td>\n",
              "      <td>2016-04-29 16:08:27</td>\n",
              "      <td>2016-04-29</td>\n",
              "      <td>56</td>\n",
              "      <td>JARDIM DA PENHA</td>\n",
              "      <td>0</td>\n",
              "      <td>0</td>\n",
              "      <td>0</td>\n",
              "      <td>0</td>\n",
              "      <td>0</td>\n",
              "      <td>0</td>\n",
              "      <td>No</td>\n",
              "      <td>1</td>\n",
              "      <td>1</td>\n",
              "      <td>0</td>\n",
              "      <td>39</td>\n",
              "    </tr>\n",
              "    <tr>\n",
              "      <th>2</th>\n",
              "      <td>4262962299951</td>\n",
              "      <td>5642549</td>\n",
              "      <td>F</td>\n",
              "      <td>2016-04-29 16:19:04</td>\n",
              "      <td>2016-04-29</td>\n",
              "      <td>62</td>\n",
              "      <td>MATA DA PRAIA</td>\n",
              "      <td>0</td>\n",
              "      <td>0</td>\n",
              "      <td>0</td>\n",
              "      <td>0</td>\n",
              "      <td>0</td>\n",
              "      <td>0</td>\n",
              "      <td>No</td>\n",
              "      <td>1</td>\n",
              "      <td>0</td>\n",
              "      <td>0</td>\n",
              "      <td>45</td>\n",
              "    </tr>\n",
              "    <tr>\n",
              "      <th>3</th>\n",
              "      <td>867951213174</td>\n",
              "      <td>5642828</td>\n",
              "      <td>F</td>\n",
              "      <td>2016-04-29 17:29:31</td>\n",
              "      <td>2016-04-29</td>\n",
              "      <td>8</td>\n",
              "      <td>PONTAL DE CAMBURI</td>\n",
              "      <td>0</td>\n",
              "      <td>0</td>\n",
              "      <td>0</td>\n",
              "      <td>0</td>\n",
              "      <td>0</td>\n",
              "      <td>0</td>\n",
              "      <td>No</td>\n",
              "      <td>1</td>\n",
              "      <td>0</td>\n",
              "      <td>0</td>\n",
              "      <td>54</td>\n",
              "    </tr>\n",
              "    <tr>\n",
              "      <th>4</th>\n",
              "      <td>8841186448183</td>\n",
              "      <td>5642494</td>\n",
              "      <td>F</td>\n",
              "      <td>2016-04-29 16:07:23</td>\n",
              "      <td>2016-04-29</td>\n",
              "      <td>56</td>\n",
              "      <td>JARDIM DA PENHA</td>\n",
              "      <td>0</td>\n",
              "      <td>1</td>\n",
              "      <td>1</td>\n",
              "      <td>0</td>\n",
              "      <td>0</td>\n",
              "      <td>0</td>\n",
              "      <td>No</td>\n",
              "      <td>1</td>\n",
              "      <td>0</td>\n",
              "      <td>0</td>\n",
              "      <td>39</td>\n",
              "    </tr>\n",
              "  </tbody>\n",
              "</table>\n",
              "</div>"
            ],
            "text/plain": [
              "        PacienteID  AgendamentoID Genero DataMarcacaoConsulta DataConsulta  \\\n",
              "0   29872499824296        5642903      F  2016-04-29 18:38:08   2016-04-29   \n",
              "1  558997776694438        5642503      M  2016-04-29 16:08:27   2016-04-29   \n",
              "2    4262962299951        5642549      F  2016-04-29 16:19:04   2016-04-29   \n",
              "3     867951213174        5642828      F  2016-04-29 17:29:31   2016-04-29   \n",
              "4    8841186448183        5642494      F  2016-04-29 16:07:23   2016-04-29   \n",
              "\n",
              "   Idade             Bairro  Escolaridade  Hipertensao  Diabetes  Alcoolismo  \\\n",
              "0     62    JARDIM DA PENHA             0            1         0           0   \n",
              "1     56    JARDIM DA PENHA             0            0         0           0   \n",
              "2     62      MATA DA PRAIA             0            0         0           0   \n",
              "3      8  PONTAL DE CAMBURI             0            0         0           0   \n",
              "4     56    JARDIM DA PENHA             0            1         1           0   \n",
              "\n",
              "   Deficiencia  SMS_Alerta No-show  TempoEspera  Genero_Masculino  \\\n",
              "0            0           0      No            1                 0   \n",
              "1            0           0      No            1                 1   \n",
              "2            0           0      No            1                 0   \n",
              "3            0           0      No            1                 0   \n",
              "4            0           0      No            1                 0   \n",
              "\n",
              "   Nao_comparecimento  BirroInt  \n",
              "0                   0        39  \n",
              "1                   0        39  \n",
              "2                   0        45  \n",
              "3                   0        54  \n",
              "4                   0        39  "
            ]
          },
          "metadata": {
            "tags": []
          },
          "execution_count": 77
        }
      ]
    },
    {
      "cell_type": "markdown",
      "metadata": {
        "id": "HxZ4hyMrEQDz"
      },
      "source": [
        "## 3.5 - Estatistica Descritiva dos Dados"
      ]
    },
    {
      "cell_type": "code",
      "metadata": {
        "colab": {
          "base_uri": "https://localhost:8080/"
        },
        "id": "goqUW4yAlz_L",
        "outputId": "856b792f-c280-46c3-fe91-9f24f3642197"
      },
      "source": [
        "# Exibe apenas os campos numméricos:\n",
        "\n",
        "print(sus.describe())\n",
        "\n",
        "categ = sus.dtypes[sus.dtypes == \"object\"].index\n",
        "\n",
        "print(\"\\n\", sus[categ].describe(), sep='\\n')"
      ],
      "execution_count": 18,
      "outputs": [
        {
          "output_type": "stream",
          "text": [
            "       PacienteID  AgendamentoID      Idade  Escolaridade  Hipertensao  \\\n",
            "count    1.10e+05       1.10e+05  110480.00      110480.0     110480.0   \n",
            "mean     1.47e+14       5.68e+06      37.06           0.1          0.2   \n",
            "std      2.56e+14       7.13e+04      23.08           0.3          0.4   \n",
            "min      3.92e+04       5.03e+06       0.00           0.0          0.0   \n",
            "25%      4.17e+12       5.64e+06      18.00           0.0          0.0   \n",
            "50%      3.17e+13       5.68e+06      37.00           0.0          0.0   \n",
            "75%      9.44e+13       5.73e+06      55.00           0.0          0.0   \n",
            "max      1.00e+15       5.79e+06      95.00           1.0          1.0   \n",
            "\n",
            "        Diabetes  Alcoolismo  Deficiencia  SMS_Alerta  TempoEspera  \\\n",
            "count  110480.00   110480.00    110480.00   110480.00    110480.00   \n",
            "mean        0.07        0.03         0.02        0.32        10.53   \n",
            "std         0.26        0.17         0.16        0.47        15.03   \n",
            "min         0.00        0.00         0.00        0.00         1.00   \n",
            "25%         0.00        0.00         0.00        0.00         1.00   \n",
            "50%         0.00        0.00         0.00        0.00         4.00   \n",
            "75%         0.00        0.00         0.00        1.00        15.00   \n",
            "max         1.00        1.00         4.00        1.00       179.00   \n",
            "\n",
            "       Genero_Masculino  Nao_comparecimento   BirroInt  \n",
            "count         110480.00            110480.0  110480.00  \n",
            "mean               0.35                 0.2      41.74  \n",
            "std                0.48                 0.4      22.36  \n",
            "min                0.00                 0.0       0.00  \n",
            "25%                0.00                 0.0      26.00  \n",
            "50%                0.00                 0.0      40.00  \n",
            "75%                1.00                 0.0      60.00  \n",
            "max                1.00                 1.0      80.00  \n",
            "\n",
            "\n",
            "        Genero          Bairro No-show\n",
            "count   110480          110480  110480\n",
            "unique       2              81       2\n",
            "top          F  JARDIM CAMBURI      No\n",
            "freq     71802            7714   88168\n"
          ],
          "name": "stdout"
        }
      ]
    },
    {
      "cell_type": "markdown",
      "metadata": {
        "id": "1uftTQ1Vm_yZ"
      },
      "source": [
        "Com isso foi possivel validar:\n",
        "1- Não existe registros vazios \n",
        "2- Necessidade de criar um rage para excluir idades erradas na base ex:-1"
      ]
    },
    {
      "cell_type": "markdown",
      "metadata": {
        "id": "vKBQCi8C-LF-"
      },
      "source": [
        "## 3.6 - Criação do range de idade "
      ]
    },
    {
      "cell_type": "markdown",
      "metadata": {
        "id": "n0OwyZTUARAz"
      },
      "source": [
        "Excluindo os registros com menos de 0 e com mais que 95, uma vez que existem poucos registros com mais que 95 anos.\n",
        "Assim, foram removidos 47 registros."
      ]
    },
    {
      "cell_type": "code",
      "metadata": {
        "colab": {
          "base_uri": "https://localhost:8080/"
        },
        "id": "eTV7LDHD-Yk3",
        "outputId": "36140161-d65f-4972-b61b-c6beb6785983"
      },
      "source": [
        "sus = sus[(sus.Idade >= 0) & (sus.Idade <= 95)]\n",
        "print(\"\\nDimensões de SUS:\\n{0}\\n\".format(sus.shape))"
      ],
      "execution_count": 13,
      "outputs": [
        {
          "output_type": "stream",
          "text": [
            "\n",
            "Dimensões de SUS:\n",
            "(110480, 18)\n",
            "\n"
          ],
          "name": "stdout"
        }
      ]
    },
    {
      "cell_type": "markdown",
      "metadata": {
        "id": "GLd37_zz0YPL"
      },
      "source": [
        "# 4 - Explorando os dados"
      ]
    },
    {
      "cell_type": "code",
      "metadata": {
        "colab": {
          "base_uri": "https://localhost:8080/"
        },
        "id": "eS0mQB6_0uX1",
        "outputId": "2dc3e049-230d-4f73-9030-d4d6b276d054"
      },
      "source": [
        "###### Verifica a quantidade  de registros de não cmomparecimento ######\n",
        "sus['Nao_comparecimento'].value_counts()\n",
        "\n"
      ],
      "execution_count": 51,
      "outputs": [
        {
          "output_type": "execute_result",
          "data": {
            "text/plain": [
              "0    88168\n",
              "1    22312\n",
              "Name: Nao_comparecimento, dtype: int64"
            ]
          },
          "metadata": {
            "tags": []
          },
          "execution_count": 51
        }
      ]
    },
    {
      "cell_type": "code",
      "metadata": {
        "colab": {
          "base_uri": "https://localhost:8080/",
          "height": 534
        },
        "id": "eCbt182PPsca",
        "outputId": "75735560-5192-4715-b489-4d4e2627d89d"
      },
      "source": [
        "sus['No-show'].value_counts().plot(kind='pie', autopct='%.2f%%', figsize=(8,8))\n",
        "plt.axis('equal')  # Para deixar o gráfico redondo"
      ],
      "execution_count": 53,
      "outputs": [
        {
          "output_type": "execute_result",
          "data": {
            "text/plain": [
              "(-1.1008128980357565,\n",
              " 1.1000387512624161,\n",
              " -1.1012158425825715,\n",
              " 1.1004711456915117)"
            ]
          },
          "metadata": {
            "tags": []
          },
          "execution_count": 53
        },
        {
          "output_type": "display_data",
          "data": {
            "image/png": "[encoded data removed]",
            "text/plain": [
              "<Figure size 576x576 with 1 Axes>"
            ]
          },
          "metadata": {
            "tags": []
          }
        }
      ]
    },
    {
      "cell_type": "markdown",
      "metadata": {
        "id": "jdQ9XyqKPL_0"
      },
      "source": [
        "## Dritribuição de Genero na Base "
      ]
    },
    {
      "cell_type": "code",
      "metadata": {
        "colab": {
          "base_uri": "https://localhost:8080/",
          "height": 0
        },
        "id": "odx5rdsuOooA",
        "outputId": "44a4d0b1-cf43-4426-e17d-92e2c77504f0"
      },
      "source": [
        "sus['Genero'].value_counts().plot(kind='pie', autopct='%.2f%%', figsize=(8,8))\n",
        "plt.axis('equal')  # Para deixar o gráfico redondo"
      ],
      "execution_count": 54,
      "outputs": [
        {
          "output_type": "execute_result",
          "data": {
            "text/plain": [
              "(-1.110896943071702,\n",
              " 1.1005189020510335,\n",
              " -1.112304657804976,\n",
              " 1.1068434003339573)"
            ]
          },
          "metadata": {
            "tags": []
          },
          "execution_count": 54
        },
        {
          "output_type": "display_data",
          "data": {
            "image/png": "[encoded data removed]",
            "text/plain": [
              "<Figure size 576x576 with 1 Axes>"
            ]
          },
          "metadata": {
            "tags": []
          }
        }
      ]
    },
    {
      "cell_type": "markdown",
      "metadata": {
        "id": "XWGwRRarPUQM"
      },
      "source": [
        "## Primeira data e ultima data do registro de uma consulta e uma consulta realizada"
      ]
    },
    {
      "cell_type": "code",
      "metadata": {
        "colab": {
          "base_uri": "https://localhost:8080/"
        },
        "id": "6YgCxUyNPexk",
        "outputId": "778a1ef0-df84-4dc4-a03d-c12e123cf290"
      },
      "source": [
        "print(\"Data de registro da consulta\")\n",
        "print(sus['DataMarcacaoConsulta'].min())\n",
        "print(sus['DataMarcacaoConsulta'].max())\n",
        "\n",
        "print(\"Data da consulta\")\n",
        "print(sus['DataConsulta'].min())\n",
        "print(sus['DataConsulta'].max())"
      ],
      "execution_count": 55,
      "outputs": [
        {
          "output_type": "stream",
          "text": [
            "Data de registro da consulta\n",
            "2015-11-10 07:13:56\n",
            "2016-06-08 20:07:23\n",
            "Data da consulta\n",
            "2016-04-29 00:00:00\n",
            "2016-06-08 00:00:00\n"
          ],
          "name": "stdout"
        }
      ]
    },
    {
      "cell_type": "markdown",
      "metadata": {
        "id": "j0eatXmcPo0M"
      },
      "source": [
        "## Nova seção"
      ]
    },
    {
      "cell_type": "markdown",
      "metadata": {
        "id": "k1syYfod0gFf"
      },
      "source": [
        "# 5- Aplicação dos algoritmos de MACHINE LEARNING"
      ]
    },
    {
      "cell_type": "code",
      "metadata": {
        "id": "ZNLpVaVn-jTc"
      },
      "source": [
        "### Exibe Resultados ####\n",
        "\n",
        "def obtemMetricasResumido(y_test, y_pred, nome_modelo):\n",
        "    # Obtendo metricas\n",
        "    print(\"\\nAcurácia de previsão - \"+ nome_modelo +\":\", accuracy_score(y_test, y_pred))\n",
        "    print(\"---------------------------------------------------------------------------- \")\n",
        "    print(classification_report(y_test, y_pred, target_names=[\"Compareceu\", \"Não Compareceu\"]))\n",
        "    # Matriz de Confusão\n",
        "    print(\"---------------------------------------------------------------------------- \")\n",
        "    cnf_matrix = confusion_matrix(y_test, y_pred)\n",
        "    cnf_table = pd.DataFrame(data=cnf_matrix, index=[\"Compareceu\", \"Não Compareceu\"], columns=[\"Compareceu (prev)\", \"Não Compareceu (prev)\"])\n",
        "    print(cnf_table)\n",
        "    plt.matshow(cnf_matrix)\n",
        "    plt.colorbar()\n",
        "    plt.ylabel('Real Class')\n",
        "    plt.xlabel('Predicted Class')\n",
        "    plt.show()  \n",
        "\n"
      ],
      "execution_count": 14,
      "outputs": []
    },
    {
      "cell_type": "code",
      "metadata": {
        "id": "v832hyLZ6O6M"
      },
      "source": [
        "def obtemMetricasCompleto(y_test, y_pred, nome_modelo):\n",
        "    # Obtendo metricas\n",
        "    print(\"\\nAcurácia de previsão - \"+ nome_modelo +\":\", accuracy_score(y_test, y_pred))\n",
        "    print(classification_report(y_test, y_pred, target_names=[\"Compareceu\", \"Não Compareceu\"]))\n",
        "\n",
        "    # Matriz de Consufão\n",
        "    cnf_matrix = confusion_matrix(y_test, y_pred)\n",
        "    cnf_table = pd.DataFrame(data=cnf_matrix, index=[\"Compareceu\", \"Não Compareceu\"], columns=[\"Compareceu (prev)\", \"Não Compareceu (prev)\"])\n",
        "    print(cnf_table)\n",
        "    plt.matshow(cnf_matrix)\n",
        "    plt.colorbar()\n",
        "    plt.ylabel('Real Class')\n",
        "    plt.xlabel('Predicted Class')\n",
        "    plt.show()  \n",
        "    \n",
        "    # Curva AOC\n",
        "    fpr, tpr, thresholds = metrics.roc_curve(y_test, y_pred)\n",
        "    auc = metrics.auc(fpr, tpr)\n",
        "    plt.plot(fpr, tpr, color='blue',label='ROC (AUC = %0.4f)' % auc)\n",
        "    plt.legend(loc='lower right')\n",
        "    plt.title(\"ROC Curve \" + nome_modelo)\n",
        "    plt.xlabel(\"FPR\")\n",
        "    plt.ylabel(\"TPR\")\n",
        "    plt.show()\n",
        "    \n",
        "    "
      ],
      "execution_count": 37,
      "outputs": []
    },
    {
      "cell_type": "markdown",
      "metadata": {
        "id": "dYw9DwKMI4bX"
      },
      "source": [
        "## Naive Bayes"
      ]
    },
    {
      "cell_type": "code",
      "metadata": {
        "colab": {
          "base_uri": "https://localhost:8080/",
          "height": 516
        },
        "id": "N99IDhj20tLg",
        "outputId": "1471c828-1baf-4a94-be1f-1985f4c4e8d5"
      },
      "source": [
        "from sklearn.model_selection import train_test_split\n",
        "from sklearn.naive_bayes import GaussianNB\n",
        "## Separa as colunas que vão ser utilizadas na classificação ###\n",
        "### Naive Bayes ###\n",
        "df_naive= sus[['Genero_Masculino', 'Idade', 'Hipertensao', 'Diabetes', \n",
        "              'Alcoolismo', 'Deficiencia', 'SMS_Alerta', 'TempoEspera', 'BirroInt']].iloc[:len(sus)]\n",
        "              \n",
        "#df_naive = sus[['Genero_Masculino', 'Idade', 'SMS_Alerta', 'TempoEspera']].iloc[:len(sus)]\n",
        "\n",
        "# Separa  a base de treinamento e test - 70% training and 30% test\n",
        "X_train, X_test, y_train, y_test = train_test_split(df_naive, sus['Nao_comparecimento'], test_size=0.3, random_state=90) \n",
        "\n",
        "gnb = GaussianNB()\n",
        "gnb.fit(X_train, y_train)\n",
        "y_pred = gnb.predict(X_test)\n",
        "\n",
        "#Exibe o resultado\n",
        "obtemMetricasResumido(y_test, y_pred, 'Naive Bayes')\n",
        "#obtemMetricasCompleto(y_test, y_pred, 'Naive Bayes')"
      ],
      "execution_count": 23,
      "outputs": [
        {
          "output_type": "stream",
          "text": [
            "\n",
            "Acurácia de previsão - Naive Bayes: 0.7812877142167511\n",
            "---------------------------------------------------------------------------- \n",
            "                precision    recall  f1-score   support\n",
            "\n",
            "    Compareceu       0.81      0.95      0.87     26566\n",
            "Não Compareceu       0.33      0.10      0.15      6578\n",
            "\n",
            "      accuracy                           0.78     33144\n",
            "     macro avg       0.57      0.52      0.51     33144\n",
            "  weighted avg       0.71      0.78      0.73     33144\n",
            "\n",
            "---------------------------------------------------------------------------- \n",
            "                Compareceu (prev)  Não Compareceu (prev)\n",
            "Compareceu                  25266                   1300\n",
            "Não Compareceu               5949                    629\n"
          ],
          "name": "stdout"
        },
        {
          "output_type": "display_data",
          "data": {
            "image/png": "[encoded data removed]",
            "text/plain": [
              "<Figure size 288x288 with 2 Axes>"
            ]
          },
          "metadata": {
            "tags": [],
            "needs_background": "light"
          }
        }
      ]
    },
    {
      "cell_type": "code",
      "metadata": {
        "colab": {
          "base_uri": "https://localhost:8080/"
        },
        "id": "txowYT-xiYmT",
        "outputId": "b33789fc-6b71-4915-e54c-e3091ce86590"
      },
      "source": [
        "# print the scores on training and test set - Check for overfitting and underfitting\n",
        "#A pontuação de precisão do conjunto de treinamento é 0.7769, enquanto a precisão do conjunto de teste é 0.7813. \n",
        "#Esses dois valores são bastante comparáveis. Portanto, não há sinais de sobreajuste.\n",
        "\n",
        "print('Training set score: {:.4f}'.format(gnb.score(X_train, y_train)))\n",
        "\n",
        "print('Test set score: {:.4f}'.format(gnb.score(X_test, y_test)))"
      ],
      "execution_count": 19,
      "outputs": [
        {
          "output_type": "stream",
          "text": [
            "Training set score: 0.7744\n",
            "Test set score: 0.7813\n"
          ],
          "name": "stdout"
        }
      ]
    },
    {
      "cell_type": "code",
      "metadata": {
        "colab": {
          "base_uri": "https://localhost:8080/"
        },
        "id": "lbPupeYLjcts",
        "outputId": "c557c426-0551-45f9-c93a-089e8b797975"
      },
      "source": [
        "# Print the Confusion Matrix and slice it into four pieces\n",
        "from sklearn.metrics import confusion_matrix\n",
        "cm = confusion_matrix(y_test, y_pred)\n",
        "print('Confusion matrix\\n\\n', cm)\n",
        "print('\\nTrue Positives(TP) = ', cm[0,0])\n",
        "print('\\nTrue Negatives(TN) = ', cm[1,1])\n",
        "print('\\nFalse Positives(FP) = ', cm[0,1])\n",
        "print('\\nFalse Negatives(FN) = ', cm[1,0])"
      ],
      "execution_count": 82,
      "outputs": [
        {
          "output_type": "stream",
          "text": [
            "Confusion matrix\n",
            "\n",
            " [[25072  1303]\n",
            " [ 6098   671]]\n",
            "\n",
            "True Positives(TP) =  25072\n",
            "\n",
            "True Negatives(TN) =  671\n",
            "\n",
            "False Positives(FP) =  1303\n",
            "\n",
            "False Negatives(FN) =  6098\n"
          ],
          "name": "stdout"
        }
      ]
    },
    {
      "cell_type": "markdown",
      "metadata": {
        "id": "rWomKFq-U0XE"
      },
      "source": [
        "### Com Cross Validation"
      ]
    },
    {
      "cell_type": "code",
      "metadata": {
        "id": "8ES_ymIF6O6O",
        "colab": {
          "base_uri": "https://localhost:8080/",
          "height": 1000
        },
        "outputId": "e43fdb11-ae5f-4acd-a738-db12c9765768"
      },
      "source": [
        "###### Executando  com Cross Validation e avaliando resultado ##############\n",
        "\n",
        "X = sus[['Genero_Masculino', 'Idade', 'Hipertensao', 'Diabetes', \n",
        "               'Alcoolismo', 'Deficiencia', 'SMS_Alerta', 'TempoEspera', 'BirroInt']].iloc[:len(sus)]\n",
        "y = sus['Nao_comparecimento']\n",
        "\n",
        "print(\"\\nNumero de Compareceu na base: {}\".format(np.count_nonzero(y == 0)))\n",
        "print(\"Numero de Não Compareceu na base: {}\".format(np.count_nonzero(y == 1)))\n",
        "\n",
        "kfold = StratifiedKFold(shuffle=True, random_state=1, n_splits=5)\n",
        "for train_index, test_index in kfold.split(X, y):\n",
        "\n",
        "    X_train, X_test = X.iloc[train_index], X.iloc[test_index]\n",
        "    y_train, y_test = y.iloc[train_index], y.iloc[test_index]\n",
        "   \n",
        "    model = GaussianNB()\n",
        "    model.fit(X_train, y_train)\n",
        "    y_pred = model.predict(X_test)\n",
        "\n",
        "    obtemMetricasResumido(y_test, y_pred, 'Naive Bayes - Cross Validation')"
      ],
      "execution_count": 25,
      "outputs": [
        {
          "output_type": "stream",
          "text": [
            "\n",
            "Numero de Compareceu na base: 88168\n",
            "Numero de Não Compareceu na base: 22312\n",
            "\n",
            "Acurácia de previsão - Naive Bayes - Cross Validation: 0.7740767559739319\n",
            "---------------------------------------------------------------------------- \n",
            "                precision    recall  f1-score   support\n",
            "\n",
            "    Compareceu       0.81      0.95      0.87     17634\n",
            "Não Compareceu       0.31      0.10      0.15      4462\n",
            "\n",
            "      accuracy                           0.77     22096\n",
            "     macro avg       0.56      0.52      0.51     22096\n",
            "  weighted avg       0.70      0.77      0.72     22096\n",
            "\n",
            "---------------------------------------------------------------------------- \n",
            "                Compareceu (prev)  Não Compareceu (prev)\n",
            "Compareceu                  16679                    955\n",
            "Não Compareceu               4037                    425\n"
          ],
          "name": "stdout"
        },
        {
          "output_type": "display_data",
          "data": {
            "image/png": "[encoded data removed]",
            "text/plain": [
              "<Figure size 288x288 with 2 Axes>"
            ]
          },
          "metadata": {
            "tags": [],
            "needs_background": "light"
          }
        },
        {
          "output_type": "stream",
          "text": [
            "\n",
            "Acurácia de previsão - Naive Bayes - Cross Validation: 0.7754344677769732\n",
            "---------------------------------------------------------------------------- \n",
            "                precision    recall  f1-score   support\n",
            "\n",
            "    Compareceu       0.81      0.95      0.87     17634\n",
            "Não Compareceu       0.33      0.10      0.16      4462\n",
            "\n",
            "      accuracy                           0.78     22096\n",
            "     macro avg       0.57      0.52      0.51     22096\n",
            "  weighted avg       0.71      0.78      0.73     22096\n",
            "\n",
            "---------------------------------------------------------------------------- \n",
            "                Compareceu (prev)  Não Compareceu (prev)\n",
            "Compareceu                  16668                    966\n",
            "Não Compareceu               3996                    466\n"
          ],
          "name": "stdout"
        },
        {
          "output_type": "display_data",
          "data": {
            "image/png": "[encoded data removed]",
            "text/plain": [
              "<Figure size 288x288 with 2 Axes>"
            ]
          },
          "metadata": {
            "tags": [],
            "needs_background": "light"
          }
        },
        {
          "output_type": "stream",
          "text": [
            "\n",
            "Acurácia de previsão - Naive Bayes - Cross Validation: 0.7744840695148443\n",
            "---------------------------------------------------------------------------- \n",
            "                precision    recall  f1-score   support\n",
            "\n",
            "    Compareceu       0.80      0.95      0.87     17634\n",
            "Não Compareceu       0.31      0.09      0.14      4462\n",
            "\n",
            "      accuracy                           0.77     22096\n",
            "     macro avg       0.56      0.52      0.51     22096\n",
            "  weighted avg       0.70      0.77      0.72     22096\n",
            "\n",
            "---------------------------------------------------------------------------- \n",
            "                Compareceu (prev)  Não Compareceu (prev)\n",
            "Compareceu                  16703                    931\n",
            "Não Compareceu               4052                    410\n"
          ],
          "name": "stdout"
        },
        {
          "output_type": "display_data",
          "data": {
            "image/png": "[encoded data removed]",
            "text/plain": [
              "<Figure size 288x288 with 2 Axes>"
            ]
          },
          "metadata": {
            "tags": [],
            "needs_background": "light"
          }
        },
        {
          "output_type": "stream",
          "text": [
            "\n",
            "Acurácia de previsão - Naive Bayes - Cross Validation: 0.7730811006517017\n",
            "---------------------------------------------------------------------------- \n",
            "                precision    recall  f1-score   support\n",
            "\n",
            "    Compareceu       0.81      0.94      0.87     17633\n",
            "Não Compareceu       0.31      0.10      0.15      4463\n",
            "\n",
            "      accuracy                           0.77     22096\n",
            "     macro avg       0.56      0.52      0.51     22096\n",
            "  weighted avg       0.71      0.77      0.72     22096\n",
            "\n",
            "---------------------------------------------------------------------------- \n",
            "                Compareceu (prev)  Não Compareceu (prev)\n",
            "Compareceu                  16627                   1006\n",
            "Não Compareceu               4008                    455\n"
          ],
          "name": "stdout"
        },
        {
          "output_type": "display_data",
          "data": {
            "image/png": "[encoded data removed]",
            "text/plain": [
              "<Figure size 288x288 with 2 Axes>"
            ]
          },
          "metadata": {
            "tags": [],
            "needs_background": "light"
          }
        },
        {
          "output_type": "stream",
          "text": [
            "\n",
            "Acurácia de previsão - Naive Bayes - Cross Validation: 0.780095944967415\n",
            "---------------------------------------------------------------------------- \n",
            "                precision    recall  f1-score   support\n",
            "\n",
            "    Compareceu       0.81      0.95      0.87     17633\n",
            "Não Compareceu       0.35      0.10      0.16      4463\n",
            "\n",
            "      accuracy                           0.78     22096\n",
            "     macro avg       0.58      0.53      0.52     22096\n",
            "  weighted avg       0.71      0.78      0.73     22096\n",
            "\n",
            "---------------------------------------------------------------------------- \n",
            "                Compareceu (prev)  Não Compareceu (prev)\n",
            "Compareceu                  16783                    850\n",
            "Não Compareceu               4009                    454\n"
          ],
          "name": "stdout"
        },
        {
          "output_type": "display_data",
          "data": {
            "image/png": "[encoded data removed]",
            "text/plain": [
              "<Figure size 288x288 with 2 Axes>"
            ]
          },
          "metadata": {
            "tags": [],
            "needs_background": "light"
          }
        }
      ]
    },
    {
      "cell_type": "markdown",
      "metadata": {
        "id": "zBQXlMXkX-ne"
      },
      "source": [
        "## Random Forest"
      ]
    },
    {
      "cell_type": "code",
      "metadata": {
        "colab": {
          "base_uri": "https://localhost:8080/",
          "height": 513
        },
        "id": "4BX7fuVWYBgr",
        "outputId": "6081ef34-ec61-472e-8fd9-3d120f1ac0b6"
      },
      "source": [
        "###### RandomForestClassifier ##############\n",
        "df_naive= sus[['Genero_Masculino', 'Idade', 'Hipertensao', 'Diabetes', \n",
        "              'Alcoolismo', 'Deficiencia', 'SMS_Alerta', 'TempoEspera', 'BirroInt']].iloc[:len(sus)]\n",
        "\n",
        "#df_naive = sus[['Genero_Masculino', 'Idade', 'SMS_Alerta', 'TempoEspera']].iloc[:len(sus)]\n",
        "\n",
        "# Separa  a base de treinamento e test - 70% training and 30% test\n",
        "X_train, X_test, y_train, y_test = train_test_split(df_naive, sus['Nao_comparecimento'], test_size=0.3, random_state=90) \n",
        "\n",
        "model = RandomForestClassifier(n_estimators=100, n_jobs=4, random_state=1)\n",
        "model.fit(X_train, y_train)\n",
        "y_pred = model.predict(X_test)\n",
        "\n",
        "\n",
        "obtemMetricasResumido(y_test, y_pred, 'Random Forest Classifier')"
      ],
      "execution_count": 30,
      "outputs": [
        {
          "output_type": "stream",
          "text": [
            "\n",
            "Acurácia de previsão - Random Forest Classifier: 0.7737750422399228\n",
            "---------------------------------------------------------------------------- \n",
            "                precision    recall  f1-score   support\n",
            "\n",
            "    Compareceu       0.82      0.91      0.87     26566\n",
            "Não Compareceu       0.38      0.22      0.28      6578\n",
            "\n",
            "      accuracy                           0.77     33144\n",
            "     macro avg       0.60      0.56      0.57     33144\n",
            "  weighted avg       0.74      0.77      0.75     33144\n",
            "\n",
            "---------------------------------------------------------------------------- \n",
            "                Compareceu (prev)  Não Compareceu (prev)\n",
            "Compareceu                  24217                   2349\n",
            "Não Compareceu               5149                   1429\n"
          ],
          "name": "stdout"
        },
        {
          "output_type": "display_data",
          "data": {
            "image/png": "[encoded data removed]",
            "text/plain": [
              "<Figure size 288x288 with 2 Axes>"
            ]
          },
          "metadata": {
            "tags": [],
            "needs_background": "light"
          }
        }
      ]
    },
    {
      "cell_type": "markdown",
      "metadata": {
        "id": "cbtIdA8CrplG"
      },
      "source": [
        "### Com Cross Validation"
      ]
    },
    {
      "cell_type": "code",
      "metadata": {
        "id": "xTN3sjDb6O6U",
        "colab": {
          "base_uri": "https://localhost:8080/",
          "height": 1000
        },
        "outputId": "d03e8e73-097c-4c90-c622-200329ae4d59"
      },
      "source": [
        "###### Executando Random Forest com Cross Validation ##############\n",
        "\n",
        "X = sus[['Genero_Masculino', 'Idade', 'Hipertensao', 'Diabetes', \n",
        "               'Alcoolismo', 'Deficiencia', 'SMS_Alerta', 'TempoEspera', 'BirroInt']].iloc[:len(sus)]\n",
        "y = sus['Nao_comparecimento']\n",
        "\n",
        "print(\"\\nNumero de Compareceu na base: {}\".format(np.count_nonzero(y == 0)))\n",
        "print(\"Numero de Não Compareceu na base: {}\".format(np.count_nonzero(y == 1)))\n",
        "\n",
        "kfold = StratifiedKFold(shuffle=True, random_state=1, n_splits=5)\n",
        "for train_index, test_index in kfold.split(X, y):\n",
        "    \n",
        "    X_train, X_test = X.iloc[train_index], X.iloc[test_index]\n",
        "    y_train, y_test = y.iloc[train_index], y.iloc[test_index]\n",
        "      \n",
        "    model = RandomForestClassifier(n_estimators=100, n_jobs=4, random_state=1)\n",
        "    model.fit(X_train, y_train)\n",
        "    y_pred = model.predict(X_test)\n",
        "\n",
        "    obtemMetricasResumido(y_test, y_pred, 'Random Forest Classifier - Cross Validation')\n"
      ],
      "execution_count": 31,
      "outputs": [
        {
          "output_type": "stream",
          "text": [
            "\n",
            "Numero de Compareceu na base: 88168\n",
            "Numero de Não Compareceu na base: 22312\n",
            "\n",
            "Acurácia de previsão - Random Forest Classifier - Cross Validation: 0.7706372194062274\n",
            "---------------------------------------------------------------------------- \n",
            "                precision    recall  f1-score   support\n",
            "\n",
            "    Compareceu       0.82      0.91      0.86     17634\n",
            "Não Compareceu       0.38      0.21      0.27      4462\n",
            "\n",
            "      accuracy                           0.77     22096\n",
            "     macro avg       0.60      0.56      0.57     22096\n",
            "  weighted avg       0.73      0.77      0.74     22096\n",
            "\n",
            "---------------------------------------------------------------------------- \n",
            "                Compareceu (prev)  Não Compareceu (prev)\n",
            "Compareceu                  16089                   1545\n",
            "Não Compareceu               3523                    939\n"
          ],
          "name": "stdout"
        },
        {
          "output_type": "display_data",
          "data": {
            "image/png": "[encoded data removed]",
            "text/plain": [
              "<Figure size 288x288 with 2 Axes>"
            ]
          },
          "metadata": {
            "tags": [],
            "needs_background": "light"
          }
        },
        {
          "output_type": "stream",
          "text": [
            "\n",
            "Acurácia de previsão - Random Forest Classifier - Cross Validation: 0.7725832729905865\n",
            "---------------------------------------------------------------------------- \n",
            "                precision    recall  f1-score   support\n",
            "\n",
            "    Compareceu       0.82      0.91      0.87     17634\n",
            "Não Compareceu       0.39      0.22      0.28      4462\n",
            "\n",
            "      accuracy                           0.77     22096\n",
            "     macro avg       0.60      0.57      0.57     22096\n",
            "  weighted avg       0.73      0.77      0.75     22096\n",
            "\n",
            "---------------------------------------------------------------------------- \n",
            "                Compareceu (prev)  Não Compareceu (prev)\n",
            "Compareceu                  16102                   1532\n",
            "Não Compareceu               3493                    969\n"
          ],
          "name": "stdout"
        },
        {
          "output_type": "display_data",
          "data": {
            "image/png": "[encoded data removed]",
            "text/plain": [
              "<Figure size 288x288 with 2 Axes>"
            ]
          },
          "metadata": {
            "tags": [],
            "needs_background": "light"
          }
        },
        {
          "output_type": "stream",
          "text": [
            "\n",
            "Acurácia de previsão - Random Forest Classifier - Cross Validation: 0.7706372194062274\n",
            "---------------------------------------------------------------------------- \n",
            "                precision    recall  f1-score   support\n",
            "\n",
            "    Compareceu       0.82      0.91      0.86     17634\n",
            "Não Compareceu       0.38      0.22      0.28      4462\n",
            "\n",
            "      accuracy                           0.77     22096\n",
            "     macro avg       0.60      0.56      0.57     22096\n",
            "  weighted avg       0.73      0.77      0.75     22096\n",
            "\n",
            "---------------------------------------------------------------------------- \n",
            "                Compareceu (prev)  Não Compareceu (prev)\n",
            "Compareceu                  16048                   1586\n",
            "Não Compareceu               3482                    980\n"
          ],
          "name": "stdout"
        },
        {
          "output_type": "display_data",
          "data": {
            "image/png": "[encoded data removed]",
            "text/plain": [
              "<Figure size 288x288 with 2 Axes>"
            ]
          },
          "metadata": {
            "tags": [],
            "needs_background": "light"
          }
        },
        {
          "output_type": "stream",
          "text": [
            "\n",
            "Acurácia de previsão - Random Forest Classifier - Cross Validation: 0.7718139029688631\n",
            "---------------------------------------------------------------------------- \n",
            "                precision    recall  f1-score   support\n",
            "\n",
            "    Compareceu       0.82      0.91      0.86     17633\n",
            "Não Compareceu       0.39      0.22      0.28      4463\n",
            "\n",
            "      accuracy                           0.77     22096\n",
            "     macro avg       0.60      0.57      0.57     22096\n",
            "  weighted avg       0.73      0.77      0.75     22096\n",
            "\n",
            "---------------------------------------------------------------------------- \n",
            "                Compareceu (prev)  Não Compareceu (prev)\n",
            "Compareceu                  16077                   1556\n",
            "Não Compareceu               3486                    977\n"
          ],
          "name": "stdout"
        },
        {
          "output_type": "display_data",
          "data": {
            "image/png": "[encoded data removed]",
            "text/plain": [
              "<Figure size 288x288 with 2 Axes>"
            ]
          },
          "metadata": {
            "tags": [],
            "needs_background": "light"
          }
        },
        {
          "output_type": "stream",
          "text": [
            "\n",
            "Acurácia de previsão - Random Forest Classifier - Cross Validation: 0.7671071687183201\n",
            "---------------------------------------------------------------------------- \n",
            "                precision    recall  f1-score   support\n",
            "\n",
            "    Compareceu       0.82      0.90      0.86     17633\n",
            "Não Compareceu       0.37      0.22      0.28      4463\n",
            "\n",
            "      accuracy                           0.77     22096\n",
            "     macro avg       0.60      0.56      0.57     22096\n",
            "  weighted avg       0.73      0.77      0.74     22096\n",
            "\n",
            "---------------------------------------------------------------------------- \n",
            "                Compareceu (prev)  Não Compareceu (prev)\n",
            "Compareceu                  15949                   1684\n",
            "Não Compareceu               3462                   1001\n"
          ],
          "name": "stdout"
        },
        {
          "output_type": "display_data",
          "data": {
            "image/png": "[encoded data removed]",
            "text/plain": [
              "<Figure size 288x288 with 2 Axes>"
            ]
          },
          "metadata": {
            "tags": [],
            "needs_background": "light"
          }
        }
      ]
    },
    {
      "cell_type": "markdown",
      "metadata": {
        "id": "vMNv1jsysuG5"
      },
      "source": [
        "## Nova seção"
      ]
    },
    {
      "cell_type": "markdown",
      "metadata": {
        "id": "6RtR1e32sv9d"
      },
      "source": [
        "### Com Cross Validation"
      ]
    }
  ]
}